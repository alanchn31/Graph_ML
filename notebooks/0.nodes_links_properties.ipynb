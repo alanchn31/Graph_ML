{
 "cells": [
  {
   "cell_type": "markdown",
   "id": "b47727d1",
   "metadata": {},
   "source": [
    "# Constructing the network:"
   ]
  },
  {
   "cell_type": "code",
   "execution_count": 1,
   "id": "b9a348d0",
   "metadata": {},
   "outputs": [],
   "source": [
    "import pandas as pd\n",
    "import networkx as nx\n",
    "import matplotlib.pyplot as plt\n",
    "import os"
   ]
  },
  {
   "cell_type": "markdown",
   "id": "150d0e45",
   "metadata": {},
   "source": [
    "Data is extracted from: https://www.kaggle.com/stackoverflow/stack-overflow-tag-network"
   ]
  },
  {
   "cell_type": "code",
   "execution_count": 2,
   "id": "fc839973",
   "metadata": {},
   "outputs": [
    {
     "name": "stdout",
     "output_type": "stream",
     "text": [
      "C:\\Users\\alanc\\OneDrive\\Desktop\\graph_ml_concepts\\sample_data\n"
     ]
    }
   ],
   "source": [
    "print(os.path.join(os.getcwd(), 'sample_data'))"
   ]
  },
  {
   "cell_type": "code",
   "execution_count": 3,
   "id": "08c5a3e5",
   "metadata": {},
   "outputs": [],
   "source": [
    "# Read in data:\n",
    "base_path = os.path.join(os.getcwd(), 'sample_data')\n",
    "\n",
    "df_nodes = pd.read_csv(os.path.join(base_path,'stack_network_nodes.csv'))\n",
    "df_edges = pd.read_csv(os.path.join(base_path,'stack_network_links.csv'))"
   ]
  },
  {
   "cell_type": "code",
   "execution_count": 4,
   "id": "0b1dfd70",
   "metadata": {},
   "outputs": [],
   "source": [
    "# Initialize network using networkx:\n",
    "G = nx.Graph(name=\"stackoverflow\")\n",
    "\n",
    "# Add nodes to the network:\n",
    "for idx, row in df_nodes.iterrows():\n",
    "    G.add_node(row['name'], group=row['group'], nodesize=row['nodesize'])\n",
    "    \n",
    "    \n",
    "# Add edges to the network:\n",
    "for idx, row in df_edges.iterrows():\n",
    "    G.add_weighted_edges_from([(row['source'], row['target'], row['value'])])"
   ]
  },
  {
   "cell_type": "markdown",
   "id": "ef1e12db",
   "metadata": {},
   "source": [
    "## Compute node properties"
   ]
  },
  {
   "cell_type": "code",
   "execution_count": 8,
   "id": "84b9c3ba",
   "metadata": {},
   "outputs": [
    {
     "name": "stdout",
     "output_type": "stream",
     "text": [
      "Degree of node: azure is 5\n",
      "Eigenvector centrality of node: azure is 0.0381\n",
      "Betweenness centrality of node: azure is 0.054\n",
      "Closeness centrality of node: azure is 0.212\n",
      "Clustering coefficient of node: azure is 0.5\n"
     ]
    }
   ],
   "source": [
    "sample_node = 'azure'\n",
    "\n",
    "# Compute degree of a node:\n",
    "print(f\"Degree of node: {sample_node} is {G.degree()[sample_node]}\")\n",
    "\n",
    "# Compute eigenvector centrality of a node:\n",
    "# Measure of importance of node based on importances of other nodes\n",
    "eigen_centrality = nx.eigenvector_centrality(G)\n",
    "print(f\"Eigenvector centrality of node: {sample_node} is {round(eigen_centrality[sample_node], 4)}\")\n",
    "\n",
    "# Compute betweenness centrality of a node:\n",
    "# Measure of how frequent a node lies of shortest paths between other pairs of nodes\n",
    "betweeness_centrality = nx.betweenness_centrality(G)\n",
    "print(f\"Betweenness centrality of node: {sample_node} is {round(betweeness_centrality[sample_node], 4)}\")\n",
    "\n",
    "# Compute closeness centrality of a node:\n",
    "# Measure of length of paths between given node and other nodes it is connected to\n",
    "closeness_centrality = nx.closeness_centrality(G)\n",
    "print(f\"Closeness centrality of node: {sample_node} is {round(closeness_centrality[sample_node], 4)}\")\n",
    "\n",
    "# Compute closeness centrality of a node:\n",
    "# Measures how connected a node's neighboring nodes are\n",
    "clustering_coef = nx.clustering(G)\n",
    "print(f\"Clustering coefficient of node: {sample_node} is {round(clustering_coef[sample_node], 4)}\")"
   ]
  },
  {
   "cell_type": "markdown",
   "id": "3905a7ef",
   "metadata": {},
   "source": [
    "## Compute edges properties"
   ]
  },
  {
   "cell_type": "code",
   "execution_count": 15,
   "id": "ec30cab2",
   "metadata": {},
   "outputs": [
    {
     "name": "stdout",
     "output_type": "stream",
     "text": [
      "Jaccard coefficient of nodes azure & .net is 0.1818\n",
      "Adamic-Adar index of nodes azure & .net is 0.7688\n"
     ]
    }
   ],
   "source": [
    "sample_nodes = [('azure', '.net')]\n",
    "\n",
    "### Local neighbourhood overlap\n",
    "\n",
    "# Compute Jaccard coefficient of a pair of nodes:\n",
    "# Captures no. of neighbouring nodes shared between two nodes\n",
    "jcs = nx.jaccard_coefficient(G, sample_nodes)\n",
    "for u, v, p in jcs:\n",
    "    print(f\"Jaccard coefficient of nodes {u} & {v} is {round(p, 4)}\")\n",
    "    \n",
    "# Compute Adamic-Adar of a pair of nodes:\n",
    "# Calculates degree of all neighbouring nodes shared between u and v\n",
    "aai = nx.adamic_adar_index(G, sample_nodes)\n",
    "for u, v, p in aai:\n",
    "    print(f\"Adamic-Adar index of nodes {u} & {v} is {round(p, 4)}\")"
   ]
  }
 ],
 "metadata": {
  "kernelspec": {
   "display_name": "Python 3",
   "language": "python",
   "name": "python3"
  },
  "language_info": {
   "codemirror_mode": {
    "name": "ipython",
    "version": 3
   },
   "file_extension": ".py",
   "mimetype": "text/x-python",
   "name": "python",
   "nbconvert_exporter": "python",
   "pygments_lexer": "ipython3",
   "version": "3.8.8"
  }
 },
 "nbformat": 4,
 "nbformat_minor": 5
}
